{
 "cells": [
  {
   "cell_type": "markdown",
   "id": "ea4a1dbe",
   "metadata": {},
   "source": [
    "# Signal Detection Theory for Emotional Faces"
   ]
  },
  {
   "cell_type": "markdown",
   "id": "434415b0",
   "metadata": {},
   "source": [
    "## Import modules"
   ]
  },
  {
   "cell_type": "code",
   "execution_count": 1,
   "id": "178996dc-ea2a-4f94-9bae-d80462c53b0d",
   "metadata": {
    "slideshow": {
     "slide_type": "subslide"
    }
   },
   "outputs": [],
   "source": [
    "import pandas as pd\n",
    "import numpy as np"
   ]
  },
  {
   "cell_type": "markdown",
   "id": "f85dae63",
   "metadata": {},
   "source": [
    "## Explore the data"
   ]
  },
  {
   "cell_type": "markdown",
   "id": "38ddf9f6",
   "metadata": {},
   "source": [
    "Description of variables:\n",
    "Stimulus Level (ground truth): 1: 100% fearful, 2: 70% fearful, 3: 60% fearful, 4: 50% fearful, 5: 40% fearful, 6: 30% fearful, 7: 0% fearful.\n",
    "* 1 = fearful (signal, 100% fearful)\n",
    "* 0 = NOT fearful (noise, 0 % fearful)\n",
    "    * change 7s to 0s\n",
    "\n",
    "Response (decision): 1: judging face as fear (signal), 2: judging face as happy (noise, aka NOT fear), NaN: missing button press.\n",
    "* 1 = judge fearful (signal)\n",
    "* 0 = judge NOT fearful (noise)\n",
    "    * change 2s to 0s\n",
    "\n",
    "Confidence scale: 3: very sure, 2: sure, 1: unsure\n",
    "\n",
    "Clean data:\n",
    "* Remove RT and Confidence columns\n",
    "* Remove NaN and 30-70% rows\n",
    "* Split patient groups into Epilepsy and Lesion"
   ]
  },
  {
   "cell_type": "code",
   "execution_count": 2,
   "id": "c2cf1bf4",
   "metadata": {},
   "outputs": [
    {
     "data": {
      "text/html": [
       "<div>\n",
       "<style scoped>\n",
       "    .dataframe tbody tr th:only-of-type {\n",
       "        vertical-align: middle;\n",
       "    }\n",
       "\n",
       "    .dataframe tbody tr th {\n",
       "        vertical-align: top;\n",
       "    }\n",
       "\n",
       "    .dataframe thead th {\n",
       "        text-align: right;\n",
       "    }\n",
       "</style>\n",
       "<table border=\"1\" class=\"dataframe\">\n",
       "  <thead>\n",
       "    <tr style=\"text-align: right;\">\n",
       "      <th></th>\n",
       "      <th>Subj_idx</th>\n",
       "      <th>Stimulus</th>\n",
       "      <th>Response</th>\n",
       "      <th>Confidence</th>\n",
       "      <th>RT_dec</th>\n",
       "      <th>RT_conf</th>\n",
       "      <th>Group</th>\n",
       "    </tr>\n",
       "  </thead>\n",
       "  <tbody>\n",
       "    <tr>\n",
       "      <th>0</th>\n",
       "      <td>p26CS_121211</td>\n",
       "      <td>5</td>\n",
       "      <td>2.0</td>\n",
       "      <td>3.0</td>\n",
       "      <td>0.704480</td>\n",
       "      <td>0.396290</td>\n",
       "      <td>Epilepsy</td>\n",
       "    </tr>\n",
       "    <tr>\n",
       "      <th>1</th>\n",
       "      <td>p26CS_121211</td>\n",
       "      <td>3</td>\n",
       "      <td>1.0</td>\n",
       "      <td>3.0</td>\n",
       "      <td>0.250750</td>\n",
       "      <td>0.068314</td>\n",
       "      <td>Epilepsy</td>\n",
       "    </tr>\n",
       "    <tr>\n",
       "      <th>2</th>\n",
       "      <td>p26CS_121211</td>\n",
       "      <td>4</td>\n",
       "      <td>1.0</td>\n",
       "      <td>3.0</td>\n",
       "      <td>0.125430</td>\n",
       "      <td>0.000375</td>\n",
       "      <td>Epilepsy</td>\n",
       "    </tr>\n",
       "    <tr>\n",
       "      <th>3</th>\n",
       "      <td>p26CS_121211</td>\n",
       "      <td>3</td>\n",
       "      <td>1.0</td>\n",
       "      <td>3.0</td>\n",
       "      <td>0.228830</td>\n",
       "      <td>0.000380</td>\n",
       "      <td>Epilepsy</td>\n",
       "    </tr>\n",
       "    <tr>\n",
       "      <th>4</th>\n",
       "      <td>p26CS_121211</td>\n",
       "      <td>1</td>\n",
       "      <td>1.0</td>\n",
       "      <td>3.0</td>\n",
       "      <td>0.001323</td>\n",
       "      <td>2.000000</td>\n",
       "      <td>Epilepsy</td>\n",
       "    </tr>\n",
       "  </tbody>\n",
       "</table>\n",
       "</div>"
      ],
      "text/plain": [
       "       Subj_idx  Stimulus  Response  Confidence    RT_dec   RT_conf     Group\n",
       "0  p26CS_121211         5       2.0         3.0  0.704480  0.396290  Epilepsy\n",
       "1  p26CS_121211         3       1.0         3.0  0.250750  0.068314  Epilepsy\n",
       "2  p26CS_121211         4       1.0         3.0  0.125430  0.000375  Epilepsy\n",
       "3  p26CS_121211         3       1.0         3.0  0.228830  0.000380  Epilepsy\n",
       "4  p26CS_121211         1       1.0         3.0  0.001323  2.000000  Epilepsy"
      ]
     },
     "execution_count": 2,
     "metadata": {},
     "output_type": "execute_result"
    }
   ],
   "source": [
    "df = pd.read_csv('data_Wang_2017_NatComm.csv')\n",
    "df.head()"
   ]
  },
  {
   "cell_type": "code",
   "execution_count": 3,
   "id": "3e938811",
   "metadata": {},
   "outputs": [
    {
     "name": "stdout",
     "output_type": "stream",
     "text": [
      "<class 'pandas.core.frame.DataFrame'>\n",
      "RangeIndex: 4880 entries, 0 to 4879\n",
      "Data columns (total 7 columns):\n",
      " #   Column      Non-Null Count  Dtype  \n",
      "---  ------      --------------  -----  \n",
      " 0   Subj_idx    4880 non-null   object \n",
      " 1   Stimulus    4880 non-null   int64  \n",
      " 2   Response    4650 non-null   float64\n",
      " 3   Confidence  4583 non-null   float64\n",
      " 4   RT_dec      4650 non-null   float64\n",
      " 5   RT_conf     4583 non-null   float64\n",
      " 6   Group       4880 non-null   object \n",
      "dtypes: float64(4), int64(1), object(2)\n",
      "memory usage: 267.0+ KB\n"
     ]
    }
   ],
   "source": [
    "len(df)\n",
    "df.info()"
   ]
  },
  {
   "cell_type": "markdown",
   "id": "68c9bebe",
   "metadata": {},
   "source": [
    "## Data cleaning"
   ]
  },
  {
   "cell_type": "code",
   "execution_count": 4,
   "id": "cea781d8",
   "metadata": {},
   "outputs": [
    {
     "data": {
      "text/plain": [
       "160"
      ]
     },
     "execution_count": 4,
     "metadata": {},
     "output_type": "execute_result"
    }
   ],
   "source": [
    "df.duplicated().sum()"
   ]
  },
  {
   "cell_type": "code",
   "execution_count": 5,
   "id": "8548d74f",
   "metadata": {},
   "outputs": [
    {
     "data": {
      "text/plain": [
       "Subj_idx      0\n",
       "Stimulus      0\n",
       "Response      0\n",
       "Confidence    0\n",
       "RT_dec        0\n",
       "RT_conf       0\n",
       "Group         0\n",
       "dtype: int64"
      ]
     },
     "execution_count": 5,
     "metadata": {},
     "output_type": "execute_result"
    }
   ],
   "source": [
    "df = df.dropna()\n",
    "df.isnull().sum()"
   ]
  },
  {
   "cell_type": "code",
   "execution_count": 6,
   "id": "6a49cd77",
   "metadata": {},
   "outputs": [
    {
     "data": {
      "text/plain": [
       "4583"
      ]
     },
     "execution_count": 6,
     "metadata": {},
     "output_type": "execute_result"
    }
   ],
   "source": [
    "df['Response'] = df['Response'].apply(np.int64) #convert variable to int\n",
    "len(df)"
   ]
  },
  {
   "cell_type": "code",
   "execution_count": 7,
   "id": "5caea278",
   "metadata": {},
   "outputs": [
    {
     "data": {
      "text/plain": [
       "668"
      ]
     },
     "execution_count": 7,
     "metadata": {},
     "output_type": "execute_result"
    }
   ],
   "source": [
    "df = df.drop(['RT_dec', 'RT_conf', 'Confidence'], axis=1) #drop columns\n",
    "\n",
    "# drop rows where fearful is =30-70%\n",
    "df = df.drop(df[df['Stimulus'] == 2].index)\n",
    "df = df.drop(df[df['Stimulus'] == 3].index)\n",
    "df = df.drop(df[df['Stimulus'] == 4].index)\n",
    "df = df.drop(df[df['Stimulus'] == 5].index)\n",
    "df = df.drop(df[df['Stimulus'] == 6].index)\n",
    "\n",
    "# recode the stimulus and response options to 0s and 1s\n",
    "# change Stimulus 7s to 0s (noise)\n",
    "df['Stimulus'] = df['Stimulus'].replace(to_replace=7, value=0)\n",
    "\n",
    "# change Response 2s to 0s (noise)\n",
    "df['Response'] = df['Response'].replace(to_replace=2, value=0)\n",
    "\n",
    "# drop non-epilepsy conditions ?? take this out???\n",
    "# df = df.drop(df[df['Group'] != 'Epilepsy'].index)\n",
    "\n",
    "# make sure that all hits, FAs, misses, and CRs add up to this value in the new df\n",
    "len(df)"
   ]
  },
  {
   "cell_type": "markdown",
   "id": "8e73d9a8",
   "metadata": {},
   "source": [
    "## SDT"
   ]
  },
  {
   "cell_type": "markdown",
   "id": "00b0e2cb",
   "metadata": {},
   "source": [
    "### Calculate SDT measures for both groups"
   ]
  },
  {
   "cell_type": "markdown",
   "id": "d178a897",
   "metadata": {},
   "source": [
    "* hit when Response==1 & Stimulus==1\n",
    "* fa when Response==1 & Stimulus==0\n",
    "* miss when Response==0 & Stimulus==1\n",
    "* cr when Response==0 & Stimulus==0\n",
    "\n",
    "* Group 1: Epilepsy\n",
    "* Group 2: Lesion"
   ]
  },
  {
   "cell_type": "code",
   "execution_count": 8,
   "id": "f965fe3d",
   "metadata": {},
   "outputs": [
    {
     "name": "stdout",
     "output_type": "stream",
     "text": [
      "576 92\n",
      "True\n"
     ]
    }
   ],
   "source": [
    "# split groups into 2 dataframes\n",
    "df_epilepsy = df[df['Group']=='Epilepsy']\n",
    "df_lesion = df[df['Group']=='Lesion']\n",
    "\n",
    "print(len(df_epilepsy), len(df_lesion))\n",
    "print((len(df_epilepsy) + len(df_lesion)) == len(df)) #make sure it matches\n",
    "\n",
    "# calculate hits\n",
    "hit_epilepsy = np.sum((df_epilepsy['Response']==1) & (df_epilepsy['Stimulus']==1))\n",
    "hit_lesion = np.sum((df_lesion['Response']==1) & (df_lesion['Stimulus']==1))\n",
    "\n",
    "# calculate FAs\n",
    "fa_epilepsy = np.sum((df_epilepsy['Response']==1) & (df_epilepsy['Stimulus']==0))\n",
    "fa_lesion = np.sum((df_lesion['Response']==1) & (df_lesion['Stimulus']==0))\n",
    "\n",
    "# calculate misses\n",
    "miss_epilepsy = np.sum((df_epilepsy['Response']==0) & (df_epilepsy['Stimulus']==1))\n",
    "miss_lesion = np.sum((df_lesion['Response']==0) & (df_lesion['Stimulus']==1))\n",
    "\n",
    "# calculate CRs\n",
    "cr_epilepsy = np.sum((df_epilepsy['Response']==0) & (df_epilepsy['Stimulus']==0))\n",
    "cr_lesion = np.sum((df_lesion['Response']==0) & (df_lesion['Stimulus']==0))"
   ]
  },
  {
   "cell_type": "markdown",
   "id": "a30e11b7",
   "metadata": {},
   "source": [
    "### Make SDT dataframe"
   ]
  },
  {
   "cell_type": "code",
   "execution_count": 9,
   "id": "9bacbc5d",
   "metadata": {},
   "outputs": [
    {
     "data": {
      "text/html": [
       "<div>\n",
       "<style scoped>\n",
       "    .dataframe tbody tr th:only-of-type {\n",
       "        vertical-align: middle;\n",
       "    }\n",
       "\n",
       "    .dataframe tbody tr th {\n",
       "        vertical-align: top;\n",
       "    }\n",
       "\n",
       "    .dataframe thead th {\n",
       "        text-align: right;\n",
       "    }\n",
       "</style>\n",
       "<table border=\"1\" class=\"dataframe\">\n",
       "  <thead>\n",
       "    <tr style=\"text-align: right;\">\n",
       "      <th></th>\n",
       "      <th>hit</th>\n",
       "      <th>fa</th>\n",
       "      <th>miss</th>\n",
       "      <th>cr</th>\n",
       "    </tr>\n",
       "  </thead>\n",
       "  <tbody>\n",
       "    <tr>\n",
       "      <th>0</th>\n",
       "      <td>283</td>\n",
       "      <td>6</td>\n",
       "      <td>6</td>\n",
       "      <td>281</td>\n",
       "    </tr>\n",
       "    <tr>\n",
       "      <th>1</th>\n",
       "      <td>46</td>\n",
       "      <td>0</td>\n",
       "      <td>0</td>\n",
       "      <td>46</td>\n",
       "    </tr>\n",
       "  </tbody>\n",
       "</table>\n",
       "</div>"
      ],
      "text/plain": [
       "   hit  fa  miss   cr\n",
       "0  283   6     6  281\n",
       "1   46   0     0   46"
      ]
     },
     "execution_count": 9,
     "metadata": {},
     "output_type": "execute_result"
    }
   ],
   "source": [
    "outcomes = {\n",
    "    'hit' : [hit_epilepsy, hit_lesion], \n",
    "    'fa' : [fa_epilepsy, fa_lesion],\n",
    "    'miss' : [miss_epilepsy, miss_lesion],\n",
    "    'cr' : [cr_epilepsy, cr_lesion] }\n",
    "\n",
    "# create SDT dataframe\n",
    "df_sdt = pd.DataFrame(outcomes, columns = ['hit', 'fa', 'miss', 'cr'])\n",
    "df_sdt"
   ]
  },
  {
   "cell_type": "markdown",
   "id": "95e19f24",
   "metadata": {},
   "source": [
    "## Save file"
   ]
  },
  {
   "cell_type": "code",
   "execution_count": 10,
   "id": "454d5d0a",
   "metadata": {},
   "outputs": [
    {
     "name": "stdout",
     "output_type": "stream",
     "text": [
      "Data saved successfully to COGS107_newWang.csv\n"
     ]
    }
   ],
   "source": [
    "# write data out to a csv file\n",
    "filename = 'COGS107_newWang.csv'\n",
    "df_sdt.to_csv(filename, index=False) \n",
    "print('Data saved successfully to', filename)"
   ]
  }
 ],
 "metadata": {
  "celltoolbar": "Slideshow",
  "kernelspec": {
   "display_name": "Python 3 (ipykernel)",
   "language": "python",
   "name": "python3"
  },
  "language_info": {
   "codemirror_mode": {
    "name": "ipython",
    "version": 3
   },
   "file_extension": ".py",
   "mimetype": "text/x-python",
   "name": "python",
   "nbconvert_exporter": "python",
   "pygments_lexer": "ipython3",
   "version": "3.11.4"
  }
 },
 "nbformat": 4,
 "nbformat_minor": 5
}
